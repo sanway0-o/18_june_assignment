{
 "cells": [
  {
   "cell_type": "markdown",
   "id": "bd4b31ba",
   "metadata": {},
   "source": [
    "#Q1. In a try-except statement in Python, the 'else' block is an optional part of the structure that can be used to specify a block of code to be executed if no exceptions are raised within the 'try' block. Its role is to define code that should run when the 'try' block executes successfully without any exceptions.\n",
    "\n",
    "Here's an example scenario where the 'else' block can be useful:"
   ]
  },
  {
   "cell_type": "code",
   "execution_count": 1,
   "id": "6e1b71b3",
   "metadata": {},
   "outputs": [
    {
     "name": "stdout",
     "output_type": "stream",
     "text": [
      "The result of 10 divided by 2 is 5.0\n",
      "Division by zero is not allowed.\n"
     ]
    }
   ],
   "source": [
    "def divide(x, y):\n",
    "    try:\n",
    "        result = x / y\n",
    "    except ZeroDivisionError:\n",
    "        print(\"Division by zero is not allowed.\")\n",
    "    else:\n",
    "        print(f\"The result of {x} divided by {y} is {result}\")\n",
    "\n",
    "# Example usage:\n",
    "divide(10, 2)\n",
    "divide(10, 0)  "
   ]
  },
  {
   "cell_type": "markdown",
   "id": "2d850844",
   "metadata": {},
   "source": [
    "In this example, the 'try' block attempts to perform division, which may raise a `ZeroDivisionError` if the denominator is zero. If no exception is raised, the code in the 'else' block is executed, which prints the result of the division. However, if an exception is raised, the 'except' block handles the exception, and the 'else' block is skipped.\n",
    "\n",
    "The 'else' block is useful when you want to perform some actions only when no exceptions occur in the 'try' block, providing a way to separate the error-handling code from the normal flow of your program."
   ]
  },
  {
   "cell_type": "markdown",
   "id": "8c2366ed",
   "metadata": {},
   "source": [
    "#Q2. Yes, you can nest try-except blocks inside each other in Python. This allows you to handle exceptions at different levels of your code, providing more fine-grained error handling. Each inner try-except block can catch and handle exceptions specific to its scope, while the outer try-except block can catch more general exceptions or provide a fallback mechanism.\n",
    "\n",
    "Here's an example to illustrate nesting try-except blocks:"
   ]
  },
  {
   "cell_type": "code",
   "execution_count": 2,
   "id": "7d54cd79",
   "metadata": {},
   "outputs": [
    {
     "name": "stdout",
     "output_type": "stream",
     "text": [
      "The result of 10 divided by 2 is 5.0\n",
      "Division by zero is not allowed.\n",
      "The result of 10 divided by -2 is -5.0\n",
      "Error in the result: Negative result\n"
     ]
    }
   ],
   "source": [
    "def divide(x, y):\n",
    "    try:\n",
    "        result = x / y\n",
    "    except ZeroDivisionError:\n",
    "        print(\"Division by zero is not allowed.\")\n",
    "    else:\n",
    "        print(f\"The result of {x} divided by {y} is {result}\")\n",
    "        try:\n",
    "            if result < 0:\n",
    "                raise ValueError(\"Negative result\")\n",
    "        except ValueError as ve:\n",
    "            print(f\"Error in the result: {ve}\")\n",
    "\n",
    "# Example usage:\n",
    "divide(10, 2) \n",
    "divide(10, 0) \n",
    "divide(10, -2)"
   ]
  },
  {
   "cell_type": "markdown",
   "id": "6baf5161",
   "metadata": {},
   "source": [
    "In this example, there are two nested try-except blocks:\n",
    "\n",
    "1. The outer try-except block handles the possibility of a `ZeroDivisionError` when attempting the division.\n",
    "2. The inner try-except block is nested inside the 'else' block and checks if the result is negative. If the result is negative, it raises a `ValueError`, and the inner except block catches and handles it.\n",
    "\n",
    "Nesting try-except blocks can help you manage exceptions in a more structured and organized manner, allowing you to handle different types of errors at various levels of your code."
   ]
  },
  {
   "cell_type": "markdown",
   "id": "20e97bc5",
   "metadata": {},
   "source": [
    "#Q3. In Python, you can create a custom exception class by defining a new class that inherits from the built-in `Exception` class or one of its subclasses. To create a custom exception class, follow these steps:\n",
    "\n",
    "1. Define a new class that inherits from `Exception` or a more specific exception class if your custom exception falls into a specific category.\n",
    "2. You can add any custom attributes or methods to your exception class as needed.\n",
    "\n",
    "Here's an example of creating a custom exception class and demonstrating its usage:"
   ]
  },
  {
   "cell_type": "code",
   "execution_count": 3,
   "id": "b5e7228a",
   "metadata": {},
   "outputs": [
    {
     "name": "stdout",
     "output_type": "stream",
     "text": [
      "Custom Error (1001): Division by zero is not allowed.\n",
      "An unexpected error occurred: unsupported operand type(s) for /: 'int' and 'str'\n"
     ]
    }
   ],
   "source": [
    "class CustomError(Exception):\n",
    "    def __init__(self, message):\n",
    "        super().__init__(message)\n",
    "        self.error_code = 1001  # Custom error code\n",
    "\n",
    "def divide(x, y):\n",
    "    try:\n",
    "        if y == 0:\n",
    "            raise CustomError(\"Division by zero is not allowed.\")\n",
    "        result = x / y\n",
    "        return result\n",
    "    except CustomError as ce:\n",
    "        print(f\"Custom Error ({ce.error_code}): {ce}\")\n",
    "    except Exception as e:\n",
    "        print(f\"An unexpected error occurred: {e}\")\n",
    "    else:\n",
    "        print(f\"The result of {x} divided by {y} is {result}\")\n",
    "\n",
    "# Example usage:\n",
    "divide(10, 2)  \n",
    "divide(10, 0)  \n",
    "divide(10, 'a')  "
   ]
  },
  {
   "cell_type": "markdown",
   "id": "0336fa22",
   "metadata": {},
   "source": [
    "In this example:\n",
    "\n",
    "- We define a custom exception class `CustomError` that inherits from the base `Exception` class.\n",
    "- The `CustomError` class has an additional attribute called `error_code` to associate a unique code with each custom exception.\n",
    "- Inside the `divide` function, we raise the `CustomError` if the denominator is zero.\n",
    "- When catching the custom exception, we can access the error message and error code using the `message` attribute and the custom attribute `error_code`, respectively.\n",
    "- We also catch other unexpected exceptions using a more general `Exception` catch block.\n",
    "\n",
    "Custom exception classes allow you to create meaningful and well-structured error handling in your code, making it easier to identify and manage different types of errors."
   ]
  },
  {
   "cell_type": "markdown",
   "id": "37e508ac",
   "metadata": {},
   "source": [
    "#Q4. Python provides a wide range of built-in exceptions to handle various error situations in your code. Here are some common built-in exceptions in Python:\n",
    "\n",
    "1. `SyntaxError`: Raised when there is a syntax error in your code.\n",
    "   \n",
    "2. `IndentationError`: Raised when there is an issue with the indentation of your code, such as inconsistent whitespace.\n",
    "\n",
    "3. `NameError`: Raised when a local or global name is not found.\n",
    "\n",
    "4. `ZeroDivisionError`: Raised when attempting to divide by zero.\n",
    "\n",
    "5. `IndexError`: Raised when trying to access an index that is out of range in a sequence (e.g., a list or a string).\n",
    "\n",
    "6. `KeyError`: Raised when trying to access a dictionary key that does not exist.\n",
    "\n",
    "7. `FileNotFoundError`: Raised when trying to open or manipulate a file that does not exist.\n",
    "\n",
    "8. `IOError`: Raised when an input/output operation fails.\n",
    "\n",
    "9. `AttributeError`: Raised when trying to access an attribute or method that does not exist on an object.\n",
    "\n",
    "10. `ImportError`: Raised when there is an issue with importing a module.\n",
    "\n",
    "11. `ModuleNotFoundError`: Raised when trying to import a module that does not exist.\n",
    "\n",
    "12. `ValueError`: Raised when converting a data type, such as with `int()`, and the conversion is not possible.\n",
    "\n",
    "13. `TypeError`: Raised when performing operations on objects of the wrong data type.\n",
    "\n",
    "14. `MemoryError`: Raised when there is not enough memory to perform an operation.\n",
    "\n",
    "15. `KeyboardInterrupt`: Raised when the user interrupts the program (e.g., by pressing Ctrl+C).\n",
    "\n",
    "16. `StopIteration`: Raised to signal the end of an iterator.\n",
    "\n",
    "17. `AssertionError`: Raised when an `assert` statement fails.\n",
    "\n",
    "18. `Exception`: The base class for all exceptions.\n",
    "\n",
    "These are just a few of the common built-in exceptions in Python. Python provides many more exceptions to handle specific error conditions. When writing code, it's important to anticipate potential exceptions and use appropriate exception handling mechanisms to gracefully handle them."
   ]
  },
  {
   "cell_type": "markdown",
   "id": "d73bb0f0",
   "metadata": {},
   "source": [
    "#Q5. Logging in Python refers to the practice of recording messages, warnings, errors, and other relevant information generated during the execution of a software program. The Python standard library includes a built-in module called `logging` that provides a flexible and powerful framework for implementing logging in Python applications.\n",
    "\n",
    "Logging is important in software development for several reasons:\n",
    "\n",
    "1. **Debugging and Troubleshooting:** Logging allows developers to capture information about the program's execution, such as variable values, the flow of control, and error messages. This information can be invaluable for debugging and troubleshooting issues that arise in the software.\n",
    "\n",
    "2. **Error Reporting:** When an error occurs in a software application, logging can help record the details of the error, including its type, stack trace, and context. This information is essential for diagnosing and fixing bugs.\n",
    "\n",
    "3. **Monitoring and Analysis:** In production environments, logging is crucial for monitoring the health and performance of applications. Log messages can provide insights into how the software is behaving, identify bottlenecks, and detect abnormal behavior or security breaches.\n",
    "\n",
    "4. **Audit Trails:** Logging can be used to create audit trails, which are essential for tracking user actions, changes to data, and other important events within an application. This is especially important in applications with compliance requirements.\n",
    "\n",
    "5. **Version and Release Information:** Logs can include version and release information, making it easier to track which version of the software is running and helping with regression testing.\n",
    "\n",
    "6. **Documentation:** Logs can serve as a form of documentation for the software's behavior and usage. They provide a historical record of what has happened during the program's execution.\n",
    "\n",
    "7. **Configurability:** Python's `logging` module allows developers to configure logging behavior easily. You can control where log messages are sent (e.g., console, files, remote servers), set different log levels (e.g., DEBUG, INFO, WARNING, ERROR, CRITICAL), and customize log formatting.\n",
    "\n",
    "8. **Performance Analysis:** Log messages can include timestamps, which can be used for performance analysis, profiling, and measuring response times.\n",
    "\n",
    "9. **Security:** Logging can help identify security issues by recording suspicious or unauthorized activities.\n",
    "\n",
    "10. **Communication:** Logs can serve as a communication channel between developers and operations teams (DevOps). When an issue occurs in production, logs provide detailed information to help developers understand and resolve the problem.\n",
    "\n",
    "In summary, logging is a critical aspect of software development that aids in debugging, monitoring, error reporting, and maintaining the health and reliability of software applications. Properly implemented logging can significantly simplify the process of identifying and resolving issues, improving software quality and reliability."
   ]
  },
  {
   "cell_type": "markdown",
   "id": "3b7acec2",
   "metadata": {},
   "source": [
    "#Q6. Log levels in Python logging are used to categorize log messages based on their severity or importance. Python's `logging` module defines several standard log levels, each with its own purpose. These log levels allow developers to control which messages get recorded and under what conditions. The standard log levels, in increasing order of severity, are:\n",
    "\n",
    "1. **DEBUG:** This is the lowest log level and is used for messages that provide detailed information for debugging purposes. These messages are typically not meant to be seen in a production environment but can be extremely useful during development and troubleshooting. For example:"
   ]
  },
  {
   "cell_type": "code",
   "execution_count": 6,
   "id": "4031667d",
   "metadata": {},
   "outputs": [
    {
     "name": "stderr",
     "output_type": "stream",
     "text": [
      "DEBUG:root:Debugging information: x = 5, y = 10\n"
     ]
    }
   ],
   "source": [
    "import logging\n",
    "\n",
    "x=5\n",
    "y=10\n",
    "logging.basicConfig(level=logging.DEBUG)\n",
    "logging.debug(\"Debugging information: x = %d, y = %d\", x, y)"
   ]
  },
  {
   "cell_type": "markdown",
   "id": "12683daf",
   "metadata": {},
   "source": [
    "2. **INFO:** INFO-level messages provide general information about the application's operation. They are often used to record significant milestones or events in the program's execution. These messages can be helpful for monitoring the application's behavior in a production environment. For example:"
   ]
  },
  {
   "cell_type": "code",
   "execution_count": 8,
   "id": "42293c67",
   "metadata": {},
   "outputs": [
    {
     "name": "stderr",
     "output_type": "stream",
     "text": [
      "INFO:root:Application started.\n"
     ]
    }
   ],
   "source": [
    "logging.basicConfig(level=logging.INFO)\n",
    "logging.info(\"Application started.\")"
   ]
  },
  {
   "cell_type": "markdown",
   "id": "8f80dad4",
   "metadata": {},
   "source": [
    "3. **WARNING:** WARNING-level messages indicate that something unexpected or potentially problematic has occurred, but the application can continue running. These messages are used to highlight issues that might require attention but do not necessarily indicate a critical error. For example:"
   ]
  },
  {
   "cell_type": "code",
   "execution_count": 9,
   "id": "632eadff",
   "metadata": {},
   "outputs": [
    {
     "name": "stderr",
     "output_type": "stream",
     "text": [
      "WARNING:root:Disk space is running low.\n"
     ]
    }
   ],
   "source": [
    "logging.basicConfig(level=logging.WARNING)\n",
    "logging.warning(\"Disk space is running low.\")"
   ]
  },
  {
   "cell_type": "markdown",
   "id": "71c4d7f6",
   "metadata": {},
   "source": [
    "4. **ERROR:** ERROR-level messages indicate that an error has occurred, and the application may not be able to continue running as expected. These messages are used to report critical errors that should be addressed. For example:"
   ]
  },
  {
   "cell_type": "code",
   "execution_count": 10,
   "id": "a32acae6",
   "metadata": {},
   "outputs": [
    {
     "name": "stderr",
     "output_type": "stream",
     "text": [
      "ERROR:root:An error occurred while processing the data.\n"
     ]
    }
   ],
   "source": [
    "logging.basicConfig(level=logging.ERROR)\n",
    "logging.error(\"An error occurred while processing the data.\")  "
   ]
  },
  {
   "cell_type": "markdown",
   "id": "f42e9748",
   "metadata": {},
   "source": [
    "5. **CRITICAL:** This is the highest log level, reserved for very severe errors that usually result in the application's termination. CRITICAL-level messages indicate that the application is in an unrecoverable state and requires immediate attention. For example:"
   ]
  },
  {
   "cell_type": "code",
   "execution_count": 11,
   "id": "01dbd65e",
   "metadata": {},
   "outputs": [
    {
     "name": "stderr",
     "output_type": "stream",
     "text": [
      "CRITICAL:root:System has encountered a critical failure and will terminate.\n"
     ]
    }
   ],
   "source": [
    "logging.basicConfig(level=logging.CRITICAL)\n",
    "logging.critical(\"System has encountered a critical failure and will terminate.\")"
   ]
  },
  {
   "cell_type": "markdown",
   "id": "437221a0",
   "metadata": {},
   "source": [
    "By setting the logging level appropriately, you can control the verbosity of log messages in your application. In a production environment, you might set the level to `INFO` or higher to keep logs concise, while during development or debugging, you may set the level to `DEBUG` to capture more detailed information for troubleshooting.\n",
    "\n",
    "The choice of log level for each message should reflect the message's importance and impact on the application's operation. Properly configuring log levels helps ensure that log files contain relevant information and facilitate efficient debugging and monitoring of your software."
   ]
  },
  {
   "cell_type": "markdown",
   "id": "e8a998f3",
   "metadata": {},
   "source": [
    "#Q7. In Python logging, log formatters are used to define the structure and content of log messages that are emitted by the logging system. Formatters allow you to customize the format of log messages, including the information included in each log entry, such as timestamp, log level, module name, and the actual log message text. Formatters are essential for making log messages human-readable and for ensuring that log entries contain relevant information for debugging and monitoring purposes.\n",
    "\n",
    "Python's `logging` module provides a built-in `Formatter` class, and you can create your custom formatters by subclassing it. To customize the log message format using formatters, you typically perform the following steps:\n",
    "\n",
    "1. Create an instance of the `Formatter` class or a custom formatter class you've defined.\n",
    "2. Configure the logger to use your formatter by setting the `formatter` property of the logger's handler(s).\n",
    "\n",
    "Here's an example of customizing the log message format using a formatter:"
   ]
  },
  {
   "cell_type": "code",
   "execution_count": 12,
   "id": "38d8c987",
   "metadata": {},
   "outputs": [
    {
     "name": "stderr",
     "output_type": "stream",
     "text": [
      "[DEBUG] 2023-10-27 11:34:12 - my_logger - This is a debug message.\n",
      "[DEBUG] 2023-10-27 11:34:12 - my_logger - This is a debug message.\n",
      "DEBUG:my_logger:This is a debug message.\n",
      "[INFO] 2023-10-27 11:34:12 - my_logger - This is an info message.\n",
      "[INFO] 2023-10-27 11:34:12 - my_logger - This is an info message.\n",
      "INFO:my_logger:This is an info message.\n"
     ]
    }
   ],
   "source": [
    "# Step 1: Create a custom formatter\n",
    "class MyFormatter(logging.Formatter):\n",
    "    def format(self, record):\n",
    "        # Customize the log message format here\n",
    "        log_format = \"[%(levelname)s] %(asctime)s - %(name)s - %(message)s\"\n",
    "        formatter = logging.Formatter(log_format, datefmt=\"%Y-%m-%d %H:%M:%S\")\n",
    "        return formatter.format(record)\n",
    "\n",
    "# Step 2: Create a logger and configure it to use the custom formatter\n",
    "logger = logging.getLogger(\"my_logger\")\n",
    "logger.setLevel(logging.DEBUG)\n",
    "\n",
    "# Create a handler (e.g., FileHandler or StreamHandler)\n",
    "handler = logging.StreamHandler()\n",
    "\n",
    "# Set the formatter for the handler\n",
    "handler.setFormatter(MyFormatter())\n",
    "\n",
    "# Add the handler to the logger\n",
    "logger.addHandler(handler)\n",
    "\n",
    "# Log some messages\n",
    "logger.debug(\"This is a debug message.\")\n",
    "logger.info(\"This is an info message.\")"
   ]
  },
  {
   "cell_type": "markdown",
   "id": "239210f1",
   "metadata": {},
   "source": [
    "In this example:\n",
    "\n",
    "1. We create a custom formatter class `MyFormatter` that inherits from `logging.Formatter`. In the `format` method, you can customize the log message format using string formatting, and you can include various attributes like `%(levelname)s`, `%(asctime)s`, `%(name)s`, and `%(message)s`.\n",
    "\n",
    "2. We create a logger named \"my_logger\" and configure it to use the custom formatter.\n",
    "\n",
    "3. We create a handler (in this case, a `StreamHandler` for console output), set the custom formatter using `handler.setFormatter()`, and add the handler to the logger.\n",
    "\n",
    "4. Finally, we log some messages using the configured logger, and the custom formatter is applied to format these log messages.\n",
    "\n",
    "By customizing log message formats with formatters, you can ensure that log entries contain the information you need for debugging, monitoring, and analysis, and you can make the log output more human-readable and structured according to your preferences."
   ]
  },
  {
   "cell_type": "markdown",
   "id": "a9b394de",
   "metadata": {},
   "source": [
    "#Q8. In Python, you can set up logging to capture log messages from multiple modules or classes by using the built-in `logging` module. The `logging` module provides a flexible and extensible framework for recording log messages in your application. Here's how you can set up logging to capture log messages from different modules and classes:"
   ]
  },
  {
   "cell_type": "code",
   "execution_count": 13,
   "id": "0711e41d",
   "metadata": {},
   "outputs": [],
   "source": [
    "#1. Import the `logging` module:\n",
    "  \n",
    "import logging"
   ]
  },
  {
   "cell_type": "markdown",
   "id": "fd689d1d",
   "metadata": {},
   "source": [
    "2. Configure the logging system at the beginning of your script or application, typically in the main script or entry point. You can configure it as follows:"
   ]
  },
  {
   "cell_type": "code",
   "execution_count": 14,
   "id": "e1a2f27f",
   "metadata": {},
   "outputs": [],
   "source": [
    "logging.basicConfig(level=logging.DEBUG,  # Set the global logging level\n",
    "                       format='%(asctime)s [%(levelname)s] %(name)s: %(message)s',\n",
    "                       handlers=[logging.FileHandler('myapp.log'), logging.StreamHandler()])"
   ]
  },
  {
   "cell_type": "markdown",
   "id": "0d8b7b19",
   "metadata": {},
   "source": [
    "   In this example:\n",
    "   - `level` sets the minimum log level for messages to be captured.\n",
    "   - `format` specifies the format for log messages, including timestamp, log level, logger name, and the log message.\n",
    "   - `handlers` configures where the log messages should be sent. In this case, messages are sent to both a file and the console (stdout)."
   ]
  },
  {
   "cell_type": "markdown",
   "id": "18e14dd5",
   "metadata": {},
   "source": [
    "3. In each module or class where you want to log messages, create a logger instance:"
   ]
  },
  {
   "cell_type": "code",
   "execution_count": 15,
   "id": "02ae6967",
   "metadata": {},
   "outputs": [],
   "source": [
    "logger = logging.getLogger(__name__)"
   ]
  },
  {
   "cell_type": "markdown",
   "id": "474875d9",
   "metadata": {},
   "source": [
    " This logger is usually created using the `__name__` attribute of the module or class, ensuring that log messages are associated with the correct module or class."
   ]
  },
  {
   "cell_type": "markdown",
   "id": "a8fbbbc9",
   "metadata": {},
   "source": [
    "4. Use the logger to log messages within your code:"
   ]
  },
  {
   "cell_type": "code",
   "execution_count": 16,
   "id": "40190ec9",
   "metadata": {},
   "outputs": [
    {
     "name": "stderr",
     "output_type": "stream",
     "text": [
      "DEBUG:__main__:This is a debug message.\n",
      "INFO:__main__:This is an info message.\n",
      "WARNING:__main__:This is a warning message.\n",
      "ERROR:__main__:This is an error message.\n",
      "CRITICAL:__main__:This is a critical message.\n"
     ]
    }
   ],
   "source": [
    "logger.debug(\"This is a debug message.\")\n",
    "logger.info(\"This is an info message.\")\n",
    "logger.warning(\"This is a warning message.\")\n",
    "logger.error(\"This is an error message.\")\n",
    "logger.critical(\"This is a critical message.\")"
   ]
  },
  {
   "cell_type": "markdown",
   "id": "62f9411d",
   "metadata": {},
   "source": [
    "The log messages will be captured according to their severity level and sent to the configured output handlers.\n",
    "    \n",
    "  By following this approach, you can centralize the configuration of your logging system and capture log messages from multiple modules or classes. The log messages will include information about the module or class that generated them, making it easier to identify the source of each log entry. Additionally, you can customize the log format, handlers, and other aspects of logging to suit your specific application's needs."
   ]
  },
  {
   "cell_type": "markdown",
   "id": "2720cdba",
   "metadata": {},
   "source": [
    "#Q9. Logging and print statements in Python serve different purposes and have distinct characteristics. Understanding the differences between them will help you decide when to use logging over print statements in a real-world application:\n",
    "\n",
    "1. **Purpose**:\n",
    "\n",
    "   - **Print Statements**: Print statements are primarily used for debugging and development. They are a quick way to display information on the console during development to understand the flow and values in your code.\n",
    "\n",
    "   - **Logging**: Logging, on the other hand, is designed for both debugging and production use. It allows you to record important information, errors, and events in your application, making it suitable for diagnosing issues, monitoring application behavior, and providing a history of what happened during runtime.\n",
    "\n",
    "2. **Destination**:\n",
    "\n",
    "   - **Print Statements**: Print statements write output directly to the standard output (usually the console). They are visible only during the current session, and their output can clutter the console, making it difficult to filter and analyze.\n",
    "\n",
    "   - **Logging**: Logging allows you to specify various output destinations, including log files, console, remote servers, and more. Log messages can be saved for later analysis, and you can control where and how they are stored.\n",
    "\n",
    "3. **Severity Levels**:\n",
    "\n",
    "   - **Print Statements**: Print statements are typically unstructured and don't provide a notion of severity levels. They are mainly for displaying information.\n",
    "\n",
    "   - **Logging**: Logging supports different severity levels (e.g., DEBUG, INFO, WARNING, ERROR, CRITICAL). This allows you to categorize and filter messages based on their importance. You can configure the logging system to capture only messages of a certain level or higher, making it easier to identify and prioritize issues.\n",
    "\n",
    "4. **Customization**:\n",
    "\n",
    "   - **Print Statements**: Print statements have limited customization options. You can only control the content you print and its formatting.\n",
    "\n",
    "   - **Logging**: Logging is highly customizable. You can configure log format, log handlers, and filters. This enables you to control where log messages go, how they appear, and whether they should be captured or not.\n",
    "\n",
    "5. **Production Use**:\n",
    "\n",
    "   - **Print Statements**: In production, print statements should be removed or commented out. Leaving print statements in your code can lead to unnecessary console output and potentially expose sensitive information. It's not suitable for long-term use in a production environment.\n",
    "\n",
    "   - **Logging**: Logging is designed for production use. It allows you to log errors, application events, and important information without cluttering the console. In a production environment, logs are essential for monitoring, debugging, and auditing.\n",
    "\n",
    "In a real-world application, you should use logging over print statements, especially in production code, for the following reasons:\n",
    "\n",
    "1. **Control**: Logging provides a way to control the output of your application, allowing you to filter, categorize, and store log messages efficiently.\n",
    "\n",
    "2. **Debugging**: Logging helps you debug issues in a non-intrusive way, making it easier to diagnose problems in a production environment.\n",
    "\n",
    "3. **Longevity**: Print statements are typically temporary and not suited for long-term use in production. Logging is a more sustainable and maintainable way to capture important information throughout the application's lifecycle.\n",
    "\n",
    "4. **Security**: Logging allows you to manage the security of your application by not displaying sensitive information on the console.\n",
    "\n",
    "5. **Analysis**: Logs can be invaluable for analyzing the behavior of your application, monitoring its performance, and identifying and resolving issues in real-world scenarios.\n",
    "\n",
    "While print statements can be useful during development, they should be replaced with proper logging when transitioning to a production environment to ensure the robustness and maintainability of your application."
   ]
  },
  {
   "cell_type": "markdown",
   "id": "0173a5d6",
   "metadata": {},
   "source": [
    "#Q10. To log a message to a file named \"app.log\" with the specified requirements, you can use Python's built-in `logging` module. Here's a simple Python program that accomplishes this:"
   ]
  },
  {
   "cell_type": "code",
   "execution_count": 19,
   "id": "25067877",
   "metadata": {},
   "outputs": [
    {
     "name": "stderr",
     "output_type": "stream",
     "text": [
      "INFO:root:Hello, World!\n",
      "INFO:root:This is another log entry.\n"
     ]
    }
   ],
   "source": [
    "import logging\n",
    "\n",
    "# Configure the logging\n",
    "logging.basicConfig(\n",
    "    filename=\"app.log\",  # Log file name\n",
    "    level=logging.INFO,  # Log level set to INFO\n",
    "    format='%(asctime)s [%(levelname)s] %(message)s',\n",
    ")\n",
    "\n",
    "# Log the message\n",
    "logging.info(\"Hello, World!\")\n",
    "\n",
    "# You can log additional messages in the same file without overwriting previous ones\n",
    "logging.info(\"This is another log entry.\")\n",
    "\n",
    "logging.shutdown()"
   ]
  },
  {
   "cell_type": "markdown",
   "id": "44c811f4",
   "metadata": {},
   "source": [
    "This program does the following:\n",
    "\n",
    "1. It configures the logging system to write log messages to a file named \"app.log\" with a log level of INFO. The `basicConfig` function is used to set up the logging configuration.\n",
    "\n",
    "2. It logs the message \"Hello, World!\" with an INFO log level using `logging.info()`.\n",
    "\n",
    "3. You can continue to log additional messages in the same file without overwriting the previous ones.\n",
    "\n",
    "4. Optionally, you can call `logging.shutdown()` to clean up the logging system. This step is not mandatory, but it can be useful in some scenarios."
   ]
  },
  {
   "cell_type": "markdown",
   "id": "2401d77c",
   "metadata": {},
   "source": [
    "#Q11. You can create a Python program that logs an error message to both the console and a file named \"errors.log\" when an exception occurs using the `logging` module. Here's an example program that fulfills your requirements:"
   ]
  },
  {
   "cell_type": "code",
   "execution_count": 20,
   "id": "e19f3062",
   "metadata": {},
   "outputs": [
    {
     "name": "stderr",
     "output_type": "stream",
     "text": [
      "ERROR:root:Exception of type ZeroDivisionError occurred at 2023-10-27 12:36:46.434823: division by zero\n"
     ]
    },
    {
     "name": "stdout",
     "output_type": "stream",
     "text": [
      "Program continues after handling the exception.\n"
     ]
    }
   ],
   "source": [
    "import logging\n",
    "import datetime\n",
    "\n",
    "# Configure logging to both console and file\n",
    "logging.basicConfig(\n",
    "    level=logging.ERROR,  # Set the minimum log level to ERROR\n",
    "    format='%(asctime)s [%(levelname)s] %(message)s',\n",
    "    handlers=[\n",
    "        logging.FileHandler(\"errors.log\"),  # Log to a file\n",
    "        logging.StreamHandler(),  # Log to console\n",
    "    ]\n",
    ")\n",
    "\n",
    "try:\n",
    "    # Your code that might raise an exception goes here\n",
    "    result = 1 / 0  # Example: Division by zero to trigger an exception\n",
    "except Exception as e:\n",
    "    # Log the error message with exception type and timestamp\n",
    "    error_message = f\"Exception of type {type(e).__name__} occurred at {datetime.datetime.now()}: {str(e)}\"\n",
    "    logging.error(error_message)\n",
    "\n",
    "# Continue with the rest of your program\n",
    "print(\"Program continues after handling the exception.\")"
   ]
  },
  {
   "cell_type": "markdown",
   "id": "57e8e97e",
   "metadata": {},
   "source": [
    "In this program:\n",
    "\n",
    "1. We configure logging with two handlers: one to log to a file (\"errors.log\") and another to log to the console. The log level is set to ERROR, meaning it will capture messages of ERROR level and higher.\n",
    "\n",
    "2. Inside the `try` block, you can include the code that might raise an exception. In this example, I deliberately triggered a ZeroDivisionError to demonstrate the exception handling.\n",
    "\n",
    "3. If an exception occurs, we catch it using an `except` block. We create an error message that includes the exception type, a timestamp (using `datetime.datetime.now()`), and the exception message.\n",
    "\n",
    "4. We log the error message with `logging.error()`.\n",
    "\n",
    "5. The program then continues with the rest of its execution.\n",
    "\n",
    "When you run this program, any exceptions that occur will be logged both to the console and to the \"errors.log\" file."
   ]
  },
  {
   "cell_type": "code",
   "execution_count": null,
   "id": "b3a0e950",
   "metadata": {},
   "outputs": [],
   "source": []
  }
 ],
 "metadata": {
  "kernelspec": {
   "display_name": "Python 3 (ipykernel)",
   "language": "python",
   "name": "python3"
  },
  "language_info": {
   "codemirror_mode": {
    "name": "ipython",
    "version": 3
   },
   "file_extension": ".py",
   "mimetype": "text/x-python",
   "name": "python",
   "nbconvert_exporter": "python",
   "pygments_lexer": "ipython3",
   "version": "3.11.3"
  }
 },
 "nbformat": 4,
 "nbformat_minor": 5
}
